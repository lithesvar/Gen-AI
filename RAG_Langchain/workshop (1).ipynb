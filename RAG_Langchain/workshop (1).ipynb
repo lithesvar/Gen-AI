{
  "cells": [
    {
      "cell_type": "markdown",
      "metadata": {
        "id": "jTcB6g6bYiJD"
      },
      "source": [
        "# Langchain Workshop"
      ]
    },
    {
      "cell_type": "code",
      "execution_count": 9,
      "metadata": {
        "id": "vTg7MZplalkq"
      },
      "outputs": [],
      "source": [
        "# Install dependencies\n",
        "!pip install -q openai langchain \"unstructured[all-docs]\" chromadb tiktoken"
      ]
    },
    {
      "cell_type": "code",
      "execution_count": 10,
      "metadata": {
        "id": "7DR8WLOTbdmd"
      },
      "outputs": [],
      "source": [
        "import os\n",
        "\n",
        "# Replace with your API key\n",
        "os.environ['OPENAI_API_KEY'] = '...'"
      ]
    },
    {
      "cell_type": "code",
      "execution_count": 11,
      "metadata": {
        "id": "B29bq8oXd3Gi"
      },
      "outputs": [],
      "source": [
        "# Add your content here and specify the 'source' directory\n",
        "!unzip -o -q wiki.zip -d wiki/\n",
        "\n",
        "source = 'wiki'"
      ]
    },
    {
      "cell_type": "code",
      "execution_count": 12,
      "metadata": {
        "id": "6PMtNEgmZ9Vp"
      },
      "outputs": [],
      "source": [
        "# langchain provides many ways of loading content into documents.\n",
        "# We'll use DirectoryLoader\n",
        "from langchain.document_loaders import DirectoryLoader\n",
        "\n",
        "loader = DirectoryLoader(source, glob=\"**/*\", silent_errors=True)\n",
        "raw_docs = loader.load()\n",
        "\n",
        "# Here are other loaders\n",
        "# https://python.langchain.com/docs/modules/data_connection/document_loaders/\n",
        "# https://python.langchain.com/docs/integrations/document_loaders"
      ]
    },
    {
      "cell_type": "code",
      "execution_count": 13,
      "metadata": {
        "id": "wjgQqJU2ahtL"
      },
      "outputs": [],
      "source": [
        "# We need to split the content into manageable chunks for embeddings.\n",
        "\n",
        "from langchain.text_splitter import RecursiveCharacterTextSplitter\n",
        "\n",
        "splitter = RecursiveCharacterTextSplitter(chunk_size=500, chunk_overlap=50)\n",
        "docs = splitter.split_documents(raw_docs)\n",
        "\n",
        "# Here are other splitters and document transformers\n",
        "# https://python.langchain.com/docs/modules/data_connection/document_transformers/\n",
        "# https://python.langchain.com/docs/integrations/document_transformers"
      ]
    },
    {
      "cell_type": "code",
      "execution_count": 14,
      "metadata": {
        "id": "iF8IV5RebMxw"
      },
      "outputs": [],
      "source": [
        "# We then convert the split documents into embeddings.\n",
        "# We'll store these in ChromaDB for retrieval.\n",
        "from langchain.embeddings.openai import OpenAIEmbeddings\n",
        "from langchain.vectorstores import Chroma\n",
        "\n",
        "embedding = OpenAIEmbeddings()\n",
        "store = Chroma(embedding_function=embedding, persist_directory=\"./chroma_db_oai\")\n",
        "\n",
        "# Here are other text embedding models\n",
        "# https://python.langchain.com/docs/integrations/text_embedding\n",
        "\n",
        "# Here are other vector stores\n",
        "# https://python.langchain.com/docs/modules/data_connection/vectorstores/\n",
        "# https://python.langchain.com/docs/integrations/vectorstores"
      ]
    },
    {
      "cell_type": "code",
      "execution_count": 15,
      "metadata": {
        "colab": {
          "base_uri": "https://localhost:8080/"
        },
        "id": "Nzz-WCDujTFu",
        "outputId": "ed5c3d32-9604-4032-8721-c76d1510dbf7"
      },
      "outputs": [
        {
          "data": {
            "text/plain": [
              "{'num_added': 2531, 'num_updated': 0, 'num_skipped': 1, 'num_deleted': 0}"
            ]
          },
          "execution_count": 15,
          "metadata": {},
          "output_type": "execute_result"
        }
      ],
      "source": [
        "# We'll use the SQLRecordManager to re-compute embeddings only for changed docs\n",
        "from langchain.indexes import SQLRecordManager, index\n",
        "\n",
        "namespace = f'chromadb-{source}'\n",
        "record_manager = SQLRecordManager(namespace, db_url=f'sqlite:///{source}/.records.sql')\n",
        "record_manager.create_schema()\n",
        "\n",
        "# Now let's run this\n",
        "index(docs, record_manager, store, cleanup=\"full\", source_id_key='source')\n",
        "\n",
        "# Remember: You only need to run this block of code if documents may've changed."
      ]
    },
    {
      "cell_type": "code",
      "execution_count": 16,
      "metadata": {
        "colab": {
          "base_uri": "https://localhost:8080/"
        },
        "id": "wULbxI8yj1_G",
        "outputId": "ed21ab1f-fa45-4214-8df7-72617470dd8c"
      },
      "outputs": [
        {
          "data": {
            "text/plain": [
              "[Document(page_content='Elections Voting Guidelines: We encourage you to cast your vote. Email your manager and HR (hr@gramener.com) that you will be taking time out to vote. Ensure that your manager has planned for client needs. Don’t apply for leave on HRMS. This leave is not deducted.\\n\\nAuto-Approval of Leaves: When you apply for a leave in HRMS, it will be auto-approved in 2 business days. (Your Reporting Manager can approve/reject/cancel before that.)\\n\\nNight Shift Policy', metadata={'source': 'wiki/policy.md'}),\n",
              " Document(page_content='You will find your pending leave requests.\\n\\nOn your leave request, under the Options dropdown (...), select Edit Leave\\n\\nChange your leave request and click on Update leave\\n\\nCancel Pending Leave Request\\n\\nGo to Me > Leave\\n\\nYou will find your pending leave requests.\\n\\nOn your leave request, under the Options dropdown (...), select Cancel Leave\\n\\nView your Leave Policy\\n\\nGo to Me > Leave\\n\\nClick on the Leave Policy Explanation option.\\n\\nA detailed explanation will be presented to you.\\n\\nView Holidays', metadata={'source': 'wiki/g1.md'}),\n",
              " Document(page_content=\"Types of Leaves\\n\\nPrivilege Leaves: These are allotted on pro-rata basis from DOJ & are effective from 1st April every year.\\n0-2 years service = 16 leaves/year (If you join on 1-Jan, you'll accrue 16 x 3 / 12 = 4 days by 1-Apr)\\n2-4 years service = 18 leaves/year\\nMore than 4 years service = 20 leaves/year\", metadata={'source': 'wiki/policy.md'}),\n",
              " Document(page_content=\"Carry Forward Leaves: Please take leave rather than carry it forward.\\nYou can carry forward up to 50% of annual PL eligibility (where PL + CF = max 15 days) to the next year (Apr-Mar).\\nOther leaves do not carry forward.\\nYou can encash up to 50% of PL eligibility at basic pay when you leave Gramener.\\n\\nSick Leave: 6 leaves/year with best wishes for your good health. Sick leaves are intended for unplanned medical situations. These can't be utilized as part of your planned leave.\", metadata={'source': 'wiki/policy.md'})]"
            ]
          },
          "execution_count": 16,
          "metadata": {},
          "output_type": "execute_result"
        }
      ],
      "source": [
        "# The vector store can give us relevant documents. For example:\n",
        "retriever = store.as_retriever(search_kwargs={'top_k': 3})\n",
        "retriever.get_relevant_documents(\"What is our leave policy?\")\n",
        "\n",
        "# Here are more retrievers (ways of getting docs from a query)\n",
        "# https://python.langchain.com/docs/modules/data_connection/retrievers/\n",
        "# https://python.langchain.com/docs/integrations/retrievers"
      ]
    },
    {
      "cell_type": "code",
      "execution_count": 17,
      "metadata": {
        "id": "7zq-x8m0baiv"
      },
      "outputs": [],
      "source": [
        "# We'll pass these results and the question to ChatGPT\n",
        "from langchain.chat_models import ChatOpenAI\n",
        "from langchain.chains import RetrievalQA\n",
        "\n",
        "llm = ChatOpenAI(model_name=\"gpt-3.5-turbo\", temperature=0)\n",
        "qa_chain = RetrievalQA.from_chain_type(llm, retriever=retriever, return_source_documents=True)\n",
        "\n",
        "# Here are more chat models\n",
        "# https://python.langchain.com/docs/integrations/chat/\n",
        "# Chains are a huge topic that I haven't explored yet"
      ]
    },
    {
      "cell_type": "code",
      "execution_count": 18,
      "metadata": {
        "colab": {
          "base_uri": "https://localhost:8080/"
        },
        "id": "JDzs3MQwfzJ1",
        "outputId": "2036dd7c-bb1c-4187-cdc1-de7059d6c33e"
      },
      "outputs": [
        {
          "data": {
            "text/plain": [
              "{'query': 'What is our leave policy?',\n",
              " 'result': 'To view the leave policy, please follow these steps:\\n\\n1. Go to Me > Leave.\\n2. Click on the \"Leave Policy Explanation\" option.\\n3. A detailed explanation of the leave policy will be presented to you.',\n",
              " 'source_documents': [Document(page_content='Elections Voting Guidelines: We encourage you to cast your vote. Email your manager and HR (hr@gramener.com) that you will be taking time out to vote. Ensure that your manager has planned for client needs. Don’t apply for leave on HRMS. This leave is not deducted.\\n\\nAuto-Approval of Leaves: When you apply for a leave in HRMS, it will be auto-approved in 2 business days. (Your Reporting Manager can approve/reject/cancel before that.)\\n\\nNight Shift Policy', metadata={'source': 'wiki/policy.md'}),\n",
              "  Document(page_content='You will find your pending leave requests.\\n\\nOn your leave request, under the Options dropdown (...), select Edit Leave\\n\\nChange your leave request and click on Update leave\\n\\nCancel Pending Leave Request\\n\\nGo to Me > Leave\\n\\nYou will find your pending leave requests.\\n\\nOn your leave request, under the Options dropdown (...), select Cancel Leave\\n\\nView your Leave Policy\\n\\nGo to Me > Leave\\n\\nClick on the Leave Policy Explanation option.\\n\\nA detailed explanation will be presented to you.\\n\\nView Holidays', metadata={'source': 'wiki/g1.md'}),\n",
              "  Document(page_content=\"Types of Leaves\\n\\nPrivilege Leaves: These are allotted on pro-rata basis from DOJ & are effective from 1st April every year.\\n0-2 years service = 16 leaves/year (If you join on 1-Jan, you'll accrue 16 x 3 / 12 = 4 days by 1-Apr)\\n2-4 years service = 18 leaves/year\\nMore than 4 years service = 20 leaves/year\", metadata={'source': 'wiki/policy.md'}),\n",
              "  Document(page_content=\"Carry Forward Leaves: Please take leave rather than carry it forward.\\nYou can carry forward up to 50% of annual PL eligibility (where PL + CF = max 15 days) to the next year (Apr-Mar).\\nOther leaves do not carry forward.\\nYou can encash up to 50% of PL eligibility at basic pay when you leave Gramener.\\n\\nSick Leave: 6 leaves/year with best wishes for your good health. Sick leaves are intended for unplanned medical situations. These can't be utilized as part of your planned leave.\", metadata={'source': 'wiki/policy.md'})]}"
            ]
          },
          "execution_count": 18,
          "metadata": {},
          "output_type": "execute_result"
        }
      ],
      "source": [
        "qa_chain(\"What is our leave policy?\")"
      ]
    },
    {
      "cell_type": "code",
      "execution_count": 19,
      "metadata": {
        "colab": {
          "base_uri": "https://localhost:8080/"
        },
        "id": "AS8zJQ0JglO1",
        "outputId": "87772765-bb69-4066-b911-8db5a0f36895"
      },
      "outputs": [
        {
          "data": {
            "text/plain": [
              "{'query': 'How many leaves do we get?',\n",
              " 'result': 'The number of leaves you get depends on your length of service:\\n\\n- 0-2 years of service: 16 leaves per year\\n- 2-4 years of service: 18 leaves per year\\n- More than 4 years of service: 20 leaves per year\\n\\nPlease note that these leaves are allotted on a pro-rata basis from the date of joining and are effective from 1st April every year.',\n",
              " 'source_documents': [Document(page_content=\"Types of Leaves\\n\\nPrivilege Leaves: These are allotted on pro-rata basis from DOJ & are effective from 1st April every year.\\n0-2 years service = 16 leaves/year (If you join on 1-Jan, you'll accrue 16 x 3 / 12 = 4 days by 1-Apr)\\n2-4 years service = 18 leaves/year\\nMore than 4 years service = 20 leaves/year\", metadata={'source': 'wiki/policy.md'}),\n",
              "  Document(page_content=\"Carry Forward Leaves: Please take leave rather than carry it forward.\\nYou can carry forward up to 50% of annual PL eligibility (where PL + CF = max 15 days) to the next year (Apr-Mar).\\nOther leaves do not carry forward.\\nYou can encash up to 50% of PL eligibility at basic pay when you leave Gramener.\\n\\nSick Leave: 6 leaves/year with best wishes for your good health. Sick leaves are intended for unplanned medical situations. These can't be utilized as part of your planned leave.\", metadata={'source': 'wiki/policy.md'}),\n",
              "  Document(page_content='Maternity Leave: A total of 26 weeks with best wishes. You can take a maximum of 8 weeks leave before your expected date of delivery. In case you have more than 2 surviving children the total weeks reduce to 12 & leave before the date of delivery reduces to 6 weeks. Holidays, weekends, will be a part of the paid leaves. No other leave (PL, SL, etc.) will be applicable during Maternity leave.', metadata={'source': 'wiki/policy.md'}),\n",
              "  Document(page_content='Basic salary for unused earned leave as part of the final settlement.\\n\\nFull salary for excess leaves will be deducted from the final settlement.\\n\\nYou can encash upto 50% of eligible Privilege leaves (PL) and all carry forward leaves (CF) at basic salary(as on LWD)when you leave Gramener.\\n\\nSick Leave (SL) gets lapse.\\n\\nAfter this, your settlement will be processed as follows:', metadata={'source': 'wiki/separation.md'})]}"
            ]
          },
          "execution_count": 19,
          "metadata": {},
          "output_type": "execute_result"
        }
      ],
      "source": [
        "qa_chain(\"How many leaves do we get?\")"
      ]
    },
    {
      "cell_type": "code",
      "execution_count": 20,
      "metadata": {
        "colab": {
          "base_uri": "https://localhost:8080/"
        },
        "id": "HJJ6f8BdguzS",
        "outputId": "bbcfb9f5-8fa9-46ac-e102-5794b06fff2b"
      },
      "outputs": [
        {
          "data": {
            "text/plain": [
              "{'query': 'Do we have a coaching or training plan?',\n",
              " 'result': \"Yes, we do have a coaching or training plan. To conduct any training, you can email hr@gramener.com with the details mentioned in the Trainer's Tutorial section. Additionally, there are different types of training available, such as training for developers (Python + Gramex, Gramex, D3) and data visualization for non-programmers. You can discuss with your manager and identify the areas for improvement and create a plan for training. There is also existing material available on the Internal Wiki, GEARS, books, videos, and other resources that can be used for training purposes.\",\n",
              " 'source_documents': [Document(page_content=\"Trainer's Tutorial\\n\\nTo conduct any training (online/offline), email hr@gramener.com with these details:\\n\\nTrainer: who will be mentoring this training?\\n\\nTitle: of the Training Program\\n\\nFormat: is this an Online/Offline Session? Lecture? Videos? Workshop?\\n\\nAudience: list of participants, or Self-enrollment\\n\\nObjective: of the training program\\n\\nTime, Date & Place: when, where and how can I interact with the trainers?\\n\\nDuration: how long will it take to complete the course?\", metadata={'source': 'wiki/trainers-tutorial.md'}),\n",
              "  Document(page_content='2. Share brief of what we intend to cover\\n\\nWalk through overall plan\\n\\nWhat are those areas that will NOT be covered\\n\\nAre we planning any tests pre-training and/or post-training?\\n\\nTypes of training\\n\\nThe training requests we receive broadly fall under the following categories;\\n\\n1. Training for Developers\\n\\nPython + Gramex\\n\\nGramex\\n\\nD3\\n\\n2. Data Visualization for non-programmers\\n\\nUsing Open Source Tools + Data Viz Exposure + Principles + Analysis', metadata={'source': 'wiki/external-training.md'}),\n",
              "  Document(page_content='Identify the areas for improvement, chalk out a plan. For every area of improvement identify a mentor or a buddy who will hold you accountable for your plan. Setup periodic calls to review progress.\\n\\nYour learning will propel your team and business further.\\n\\nFor your team\\n\\nDiscuss with each of your reportees and identify their interests and problem areas (by asking them). Chalk out a plan for the most important one (individual and organization alignment).\\n\\nPlan training', metadata={'source': 'wiki/managers.md'}),\n",
              "  Document(page_content='Training\\n\\nThere’s plenty of existing material on Internal Wiki, GEARS, books, videos. Trainings can be organized (such as a course or a workshop), loosely organized (conference) or self-directed (blogs, tutorials etc.).\\n\\nGet trained\\n\\nGo through existing material or identify outside material and discuss with your manager on a plan for training.', metadata={'source': 'wiki/managers.md'})]}"
            ]
          },
          "execution_count": 20,
          "metadata": {},
          "output_type": "execute_result"
        }
      ],
      "source": [
        "qa_chain(\"Do we have a coaching or training plan?\")"
      ]
    },
    {
      "cell_type": "code",
      "execution_count": null,
      "metadata": {
        "id": "faPE_oTfg4RL"
      },
      "outputs": [],
      "source": []
    }
  ],
  "metadata": {
    "colab": {
      "provenance": []
    },
    "kernelspec": {
      "display_name": "Python 3",
      "name": "python3"
    },
    "language_info": {
      "name": "python",
      "version": "3.11.4"
    }
  },
  "nbformat": 4,
  "nbformat_minor": 0
}
